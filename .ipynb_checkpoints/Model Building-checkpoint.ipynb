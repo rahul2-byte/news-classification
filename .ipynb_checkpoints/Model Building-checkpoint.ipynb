{
 "cells": [
  {
   "cell_type": "markdown",
   "id": "57e80df1",
   "metadata": {},
   "source": [
    "# Creating the Machine Learning models"
   ]
  },
  {
   "cell_type": "markdown",
   "id": "6e8cb70c",
   "metadata": {},
   "source": [
    "## Importing the data from SQL Database "
   ]
  },
  {
   "cell_type": "code",
   "execution_count": 2,
   "id": "8b38548f",
   "metadata": {},
   "outputs": [],
   "source": [
    "from mysql.connector import connect, Error\n",
    "\n",
    "import pandas as pd\n",
    "\n",
    "# importing OS because of the enviourment variable\n",
    "\n",
    "import os\n",
    "\n",
    "USER = os.environ['USER']\n",
    "\n",
    "PASSWD = os.environ['PASSWD']"
   ]
  },
  {
   "cell_type": "code",
   "execution_count": null,
   "id": "25c5d999",
   "metadata": {},
   "outputs": [],
   "source": []
  },
  {
   "cell_type": "code",
   "execution_count": 3,
   "id": "b6e5a1de",
   "metadata": {},
   "outputs": [],
   "source": [
    "def db_connection(host_name, user_name, user_password, db_name):\n",
    "    try:\n",
    "        \n",
    "        conn = connect(host=host_name, user=user_name, password=user_password, database=db_name)\n",
    "        \n",
    "    except Error as e:\n",
    "        \n",
    "        print(e)\n",
    "    \n",
    "    else:\n",
    "        \n",
    "        print(f'Connection to {db_name} is successfully!')\n",
    "    \n",
    "    return conn"
   ]
  },
  {
   "cell_type": "code",
   "execution_count": 4,
   "id": "62fe246f",
   "metadata": {},
   "outputs": [],
   "source": [
    "def retrive_data():\n",
    "    \n",
    "    try:\n",
    "        \n",
    "        df = pd.read_sql_query('SELECT * FROM news_data_clean;', conn)\n",
    "        \n",
    "    except Error as e:\n",
    "        \n",
    "        print(e)\n",
    "    \n",
    "    return df"
   ]
  },
  {
   "cell_type": "code",
   "execution_count": 5,
   "id": "7a16b419",
   "metadata": {},
   "outputs": [
    {
     "name": "stdout",
     "output_type": "stream",
     "text": [
      "Connection to news_data is successfully!\n"
     ]
    }
   ],
   "source": [
    "conn = db_connection(host_name = 'localhost', user_name = USER, user_password = PASSWD, db_name = 'news_data')"
   ]
  },
  {
   "cell_type": "code",
   "execution_count": 6,
   "id": "b2460d8c",
   "metadata": {},
   "outputs": [],
   "source": [
    "df = pd.DataFrame(columns=['category', 'description'])"
   ]
  },
  {
   "cell_type": "code",
   "execution_count": 7,
   "id": "62a8e999",
   "metadata": {},
   "outputs": [],
   "source": [
    "df = retrive_data()"
   ]
  },
  {
   "cell_type": "code",
   "execution_count": null,
   "id": "f9e807ee",
   "metadata": {},
   "outputs": [],
   "source": []
  },
  {
   "cell_type": "code",
   "execution_count": 8,
   "id": "c0f7cf9b",
   "metadata": {},
   "outputs": [
    {
     "data": {
      "text/html": [
       "<div>\n",
       "<style scoped>\n",
       "    .dataframe tbody tr th:only-of-type {\n",
       "        vertical-align: middle;\n",
       "    }\n",
       "\n",
       "    .dataframe tbody tr th {\n",
       "        vertical-align: top;\n",
       "    }\n",
       "\n",
       "    .dataframe thead th {\n",
       "        text-align: right;\n",
       "    }\n",
       "</style>\n",
       "<table border=\"1\" class=\"dataframe\">\n",
       "  <thead>\n",
       "    <tr style=\"text-align: right;\">\n",
       "      <th></th>\n",
       "      <th>category</th>\n",
       "      <th>description</th>\n",
       "    </tr>\n",
       "  </thead>\n",
       "  <tbody>\n",
       "    <tr>\n",
       "      <th>0</th>\n",
       "      <td>general</td>\n",
       "      <td>trusted,source,breaking,news,analysis,exclusiv...</td>\n",
       "    </tr>\n",
       "    <tr>\n",
       "      <th>1</th>\n",
       "      <td>general</td>\n",
       "      <td>australias,trusted,source,local,national,world...</td>\n",
       "    </tr>\n",
       "    <tr>\n",
       "      <th>2</th>\n",
       "      <td>general</td>\n",
       "      <td>news,analysis,middle,east,worldwide,multimedia...</td>\n",
       "    </tr>\n",
       "    <tr>\n",
       "      <th>3</th>\n",
       "      <td>technology</td>\n",
       "      <td>pc,enthusiasts,resource,power,users,tools,love...</td>\n",
       "    </tr>\n",
       "    <tr>\n",
       "      <th>4</th>\n",
       "      <td>general</td>\n",
       "      <td>ap,delivers,indepth,coverage,international,pol...</td>\n",
       "    </tr>\n",
       "  </tbody>\n",
       "</table>\n",
       "</div>"
      ],
      "text/plain": [
       "     category                                        description\n",
       "0     general  trusted,source,breaking,news,analysis,exclusiv...\n",
       "1     general  australias,trusted,source,local,national,world...\n",
       "2     general  news,analysis,middle,east,worldwide,multimedia...\n",
       "3  technology  pc,enthusiasts,resource,power,users,tools,love...\n",
       "4     general  ap,delivers,indepth,coverage,international,pol..."
      ]
     },
     "execution_count": 8,
     "metadata": {},
     "output_type": "execute_result"
    }
   ],
   "source": [
    "df.head()"
   ]
  },
  {
   "cell_type": "code",
   "execution_count": 9,
   "id": "ac191729",
   "metadata": {},
   "outputs": [
    {
     "data": {
      "text/plain": [
       "category       87\n",
       "description    87\n",
       "dtype: int64"
      ]
     },
     "execution_count": 9,
     "metadata": {},
     "output_type": "execute_result"
    }
   ],
   "source": [
    "df.count()"
   ]
  },
  {
   "cell_type": "markdown",
   "id": "2300a727",
   "metadata": {},
   "source": [
    "# Building the Machine Learning models"
   ]
  },
  {
   "cell_type": "markdown",
   "id": "25379854",
   "metadata": {},
   "source": [
    "## Importing the maachine learning libraries "
   ]
  },
  {
   "cell_type": "code",
   "execution_count": 10,
   "id": "a2e478de",
   "metadata": {},
   "outputs": [],
   "source": [
    "from sklearn.ensemble import RandomForestClassifier\n",
    "\n",
    "from sklearn.neighbors import KNeighborsClassifier\n",
    "\n",
    "from sklearn.tree import DecisionTreeClassifier\n",
    "\n",
    "from sklearn.naive_bayes import MultinomialNB\n",
    "\n",
    "# to convert the text into vectors\n",
    "\n",
    "from sklearn.feature_extraction.text import TfidfVectorizer\n",
    "\n",
    "from sklearn.model_selection import train_test_split\n",
    "\n",
    "from sklearn.metrics import accuracy_score, classification_report, f1_score, confusion_matrix"
   ]
  },
  {
   "cell_type": "markdown",
   "id": "54a63bb4",
   "metadata": {},
   "source": [
    "## Converting the text to into form of a Vector"
   ]
  },
  {
   "cell_type": "code",
   "execution_count": 11,
   "id": "54c6698a",
   "metadata": {},
   "outputs": [],
   "source": [
    "tfidf_vect = TfidfVectorizer(analyzer='word')\n",
    "\n",
    "x_tfidf = tfidf_vect.fit_transform(df['description'])\n",
    "\n",
    "x_features = pd.DataFrame(x_tfidf.toarray())"
   ]
  },
  {
   "cell_type": "code",
   "execution_count": 12,
   "id": "8da1ec7c",
   "metadata": {},
   "outputs": [],
   "source": [
    "# splitting the data set to training and testing data set\n",
    "\n",
    "x_train, x_test, y_train, y_test = train_test_split(x_features, df['category'], test_size=30)"
   ]
  },
  {
   "cell_type": "markdown",
   "id": "d68514d6",
   "metadata": {},
   "source": [
    "## Decision Tree Classification model"
   ]
  },
  {
   "cell_type": "code",
   "execution_count": 13,
   "id": "9d657216",
   "metadata": {},
   "outputs": [
    {
     "name": "stdout",
     "output_type": "stream",
     "text": [
      "Accuracy score :- 0.7\n",
      "               precision    recall  f1-score   support\n",
      "\n",
      "     business       0.00      0.00      0.00         1\n",
      "entertainment       0.80      0.80      0.80         5\n",
      "      general       0.70      0.94      0.80        17\n",
      "      science       1.00      0.00      0.00         1\n",
      "       sports       1.00      0.25      0.40         4\n",
      "   technology       1.00      0.00      0.00         2\n",
      "\n",
      "     accuracy                           0.70        30\n",
      "    macro avg       0.75      0.33      0.33        30\n",
      " weighted avg       0.76      0.70      0.64        30\n",
      "\n"
     ]
    }
   ],
   "source": [
    "dtc = DecisionTreeClassifier(max_depth=500)\n",
    "\n",
    "dt_model = dtc.fit(x_train, y_train)\n",
    "\n",
    "pred = dt_model.predict(x_test)\n",
    "\n",
    "print('Accuracy score :- {}'.format(round(accuracy_score(y_test, pred), 2)))\n",
    "\n",
    "print(format(classification_report(y_test, pred,zero_division=1)))"
   ]
  },
  {
   "cell_type": "markdown",
   "id": "a4d22370",
   "metadata": {},
   "source": [
    "## K Neighbors Classification model"
   ]
  },
  {
   "cell_type": "code",
   "execution_count": 14,
   "id": "41edc194",
   "metadata": {},
   "outputs": [
    {
     "name": "stdout",
     "output_type": "stream",
     "text": [
      "Accuracy score :- 0.67\n",
      "               precision    recall  f1-score   support\n",
      "\n",
      "     business       0.33      1.00      0.50         1\n",
      "entertainment       0.67      0.40      0.50         5\n",
      "      general       0.70      0.94      0.80        17\n",
      "      science       1.00      0.00      0.00         1\n",
      "       sports       1.00      0.25      0.40         4\n",
      "   technology       1.00      0.00      0.00         2\n",
      "\n",
      "     accuracy                           0.67        30\n",
      "    macro avg       0.78      0.43      0.37        30\n",
      " weighted avg       0.75      0.67      0.61        30\n",
      "\n"
     ]
    }
   ],
   "source": [
    "dtc = KNeighborsClassifier()\n",
    "\n",
    "dt_model = dtc.fit(x_train, y_train)\n",
    "\n",
    "pred = dt_model.predict(x_test)\n",
    "\n",
    "print('Accuracy score :- {}'.format(round(accuracy_score(y_test, pred), 2)))\n",
    "\n",
    "print(format(classification_report(y_test, pred,zero_division=1)))"
   ]
  },
  {
   "cell_type": "markdown",
   "id": "9a433969",
   "metadata": {},
   "source": [
    "## Random Forest Classification model"
   ]
  },
  {
   "cell_type": "code",
   "execution_count": 15,
   "id": "29f8fb5b",
   "metadata": {},
   "outputs": [
    {
     "name": "stdout",
     "output_type": "stream",
     "text": [
      "Accuracy score :- 0.7\n",
      "               precision    recall  f1-score   support\n",
      "\n",
      "     business       1.00      1.00      1.00         1\n",
      "entertainment       1.00      0.40      0.57         5\n",
      "      general       0.65      1.00      0.79        17\n",
      "      science       1.00      0.00      0.00         1\n",
      "       sports       1.00      0.25      0.40         4\n",
      "   technology       1.00      0.00      0.00         2\n",
      "\n",
      "     accuracy                           0.70        30\n",
      "    macro avg       0.94      0.44      0.46        30\n",
      " weighted avg       0.80      0.70      0.63        30\n",
      "\n"
     ]
    }
   ],
   "source": [
    "dtc = RandomForestClassifier()\n",
    "\n",
    "dt_model = dtc.fit(x_train, y_train)\n",
    "\n",
    "pred = dt_model.predict(x_test)\n",
    "\n",
    "print('Accuracy score :- {}'.format(round(accuracy_score(y_test, pred), 2)))\n",
    "\n",
    "print(format(classification_report(y_test, pred,zero_division=1)))"
   ]
  },
  {
   "cell_type": "markdown",
   "id": "81a10547",
   "metadata": {},
   "source": [
    "## Multinomial NB Classification"
   ]
  },
  {
   "cell_type": "code",
   "execution_count": 16,
   "id": "3c3982f4",
   "metadata": {},
   "outputs": [
    {
     "name": "stdout",
     "output_type": "stream",
     "text": [
      "Accuracy score :- 0.57\n",
      "               precision    recall  f1-score   support\n",
      "\n",
      "     business       1.00      0.00      0.00         1\n",
      "entertainment       1.00      0.00      0.00         5\n",
      "      general       0.57      1.00      0.72        17\n",
      "      science       1.00      0.00      0.00         1\n",
      "       sports       1.00      0.00      0.00         4\n",
      "   technology       1.00      0.00      0.00         2\n",
      "\n",
      "     accuracy                           0.57        30\n",
      "    macro avg       0.93      0.17      0.12        30\n",
      " weighted avg       0.75      0.57      0.41        30\n",
      "\n"
     ]
    }
   ],
   "source": [
    "dtc = MultinomialNB()\n",
    "\n",
    "dt_model = dtc.fit(x_train, y_train)\n",
    "\n",
    "pred = dt_model.predict(x_test)\n",
    "\n",
    "print('Accuracy score :- {}'.format(round(accuracy_score(y_test, pred), 2)))\n",
    "\n",
    "print(format(classification_report(y_test, pred,zero_division=1)))"
   ]
  }
 ],
 "metadata": {
  "kernelspec": {
   "display_name": "Python 3 (ipykernel)",
   "language": "python",
   "name": "python3"
  },
  "language_info": {
   "codemirror_mode": {
    "name": "ipython",
    "version": 3
   },
   "file_extension": ".py",
   "mimetype": "text/x-python",
   "name": "python",
   "nbconvert_exporter": "python",
   "pygments_lexer": "ipython3",
   "version": "3.9.7"
  }
 },
 "nbformat": 4,
 "nbformat_minor": 5
}
